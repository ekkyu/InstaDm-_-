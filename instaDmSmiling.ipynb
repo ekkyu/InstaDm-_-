{
 "cells": [
  {
   "cell_type": "code",
   "execution_count": null,
   "id": "frank-owner",
   "metadata": {},
   "outputs": [],
   "source": [
    "from pykakasi import kakasi\n",
    "kakasi = kakasi()\n",
    "\n",
    "def text2InstaDmSmiling(text):\n",
    "    EMOJI = '^_^'\n",
    "    little_dashes = \"ゔがぎぐげござじずぜぞだぢづでどばびぶべぼ\"\n",
    "    little_dashes_conv = \"うかきくけこさしすせそたちつてとはひふへほ\"\n",
    "    little_circle = \"ぱぴぷぺぽ\"\n",
    "    little_circle_conv = \"はひふへほ\"\n",
    "    small_letter = \"ぁぃぅぇぉゃゅょっ\"\n",
    "    small_letter_conv = \"あいうえおやゆよつ\"\n",
    "    \n",
    "    little_dashes_dict = {}\n",
    "    for i in range(len(little_dashes)):\n",
    "        little_dashes_dict[little_dashes[i]] = little_dashes_conv[i] + EMOJI\n",
    "        \n",
    "    little_circle_dict = {}\n",
    "    for i in range(len(little_circle)):\n",
    "        little_circle_dict[little_circle[i]] = little_circle_conv[i] + EMOJI\n",
    "\n",
    "    small_letter_dict = {}\n",
    "    for i in range(len(small_letter)):\n",
    "        small_letter_dict[small_letter[i]] = small_letter_conv[i] + EMOJI\n",
    "    \n",
    "    kakasi.setMode('J', 'H') \n",
    "    kakasi.setMode('K', 'H')\n",
    "\n",
    "    conv = kakasi.getConverter()\n",
    "    text_hiragana = conv.do(text)\n",
    "    \n",
    "    text_hiragana = text_hiragana.translate(str.maketrans(little_dashes_dict))\n",
    "    text_hiragana = text_hiragana.translate(str.maketrans(little_circle_dict))\n",
    "    text_hiragana = text_hiragana.translate(str.maketrans(small_letter_dict))\n",
    "    return text_hiragana\n",
    "\n",
    "if __name__ == \"__main__\":\n",
    "    text = \"ユーチューブチャンネル「ekkyu.com」。チャンネル登録お願いします！\"\n",
    "    text_instaDmSmiling = text2InstaDmSmiling(text)\n",
    "    print(text_instaDmSmiling)"
   ]
  }
 ],
 "metadata": {
  "kernelspec": {
   "display_name": "Python 3",
   "language": "python",
   "name": "python3"
  },
  "language_info": {
   "codemirror_mode": {
    "name": "ipython",
    "version": 3
   },
   "file_extension": ".py",
   "mimetype": "text/x-python",
   "name": "python",
   "nbconvert_exporter": "python",
   "pygments_lexer": "ipython3",
   "version": "3.7.6"
  }
 },
 "nbformat": 4,
 "nbformat_minor": 5
}
